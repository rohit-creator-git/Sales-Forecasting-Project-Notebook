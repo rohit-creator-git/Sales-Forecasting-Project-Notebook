{
 "cells": [
  {
   "cell_type": "markdown",
   "id": "c1189538",
   "metadata": {},
   "source": [
    "# 🛒 Sales Forecasting Dashboard\n",
    "This notebook demonstrates sales forecasting using **ARIMA** and **LSTM** models."
   ]
  },
  {
   "cell_type": "code",
   "execution_count": null,
   "id": "33ec6685",
   "metadata": {},
   "outputs": [],
   "source": [
    "\n",
    "import numpy as np\n",
    "import pandas as pd\n",
    "import matplotlib.pyplot as plt\n",
    "import seaborn as sns\n",
    "from statsmodels.tsa.arima.model import ARIMA\n",
    "from sklearn.preprocessing import MinMaxScaler\n",
    "from keras.models import Sequential\n",
    "from keras.layers import LSTM, Dense\n",
    "import warnings\n",
    "warnings.filterwarnings(\"ignore\")\n"
   ]
  },
  {
   "cell_type": "code",
   "execution_count": null,
   "id": "349526e1",
   "metadata": {},
   "outputs": [],
   "source": [
    "\n",
    "# Generate 2 years of daily sales data\n",
    "date_rng = pd.date_range(start=\"2023-01-01\", end=\"2024-12-31\", freq=\"D\")\n",
    "np.random.seed(42)\n",
    "sales = np.random.randint(100, 500, size=(len(date_rng))) + np.sin(np.arange(len(date_rng)) / 20) * 50\n",
    "\n",
    "df = pd.DataFrame(date_rng, columns=[\"date\"])\n",
    "df[\"sales\"] = sales\n",
    "\n",
    "df.head()\n"
   ]
  },
  {
   "cell_type": "code",
   "execution_count": null,
   "id": "03b72179",
   "metadata": {},
   "outputs": [],
   "source": [
    "\n",
    "plt.figure(figsize=(12,6))\n",
    "sns.lineplot(x=\"date\", y=\"sales\", data=df)\n",
    "plt.title(\"Daily Sales Over Time\")\n",
    "plt.xlabel(\"Date\")\n",
    "plt.ylabel(\"Sales\")\n",
    "plt.show()\n"
   ]
  },
  {
   "cell_type": "code",
   "execution_count": null,
   "id": "fae7020b",
   "metadata": {},
   "outputs": [],
   "source": [
    "\n",
    "# Use ARIMA for forecasting\n",
    "train = df[\"sales\"][:-60]\n",
    "test = df[\"sales\"][-60:]\n",
    "\n",
    "model = ARIMA(train, order=(5,1,0))\n",
    "model_fit = model.fit()\n",
    "forecast = model_fit.forecast(steps=60)\n",
    "\n",
    "plt.figure(figsize=(12,6))\n",
    "plt.plot(df[\"date\"][-60:], test, label=\"Actual Sales\")\n",
    "plt.plot(df[\"date\"][-60:], forecast, label=\"ARIMA Forecast\", color=\"red\")\n",
    "plt.legend()\n",
    "plt.title(\"ARIMA Forecast vs Actual Sales\")\n",
    "plt.show()\n"
   ]
  },
  {
   "cell_type": "code",
   "execution_count": null,
   "id": "b6c556c5",
   "metadata": {},
   "outputs": [],
   "source": [
    "\n",
    "# Prepare data for LSTM\n",
    "scaler = MinMaxScaler(feature_range=(0,1))\n",
    "scaled_data = scaler.fit_transform(df[\"sales\"].values.reshape(-1,1))\n",
    "\n",
    "train_size = int(len(scaled_data) * 0.8)\n",
    "train_data = scaled_data[:train_size]\n",
    "test_data = scaled_data[train_size:]\n",
    "\n",
    "X_train, y_train = [], []\n",
    "for i in range(60, len(train_data)):\n",
    "    X_train.append(train_data[i-60:i,0])\n",
    "    y_train.append(train_data[i,0])\n",
    "X_train, y_train = np.array(X_train), np.array(y_train)\n",
    "X_train = np.reshape(X_train, (X_train.shape[0], X_train.shape[1], 1))\n",
    "\n",
    "# LSTM Model\n",
    "model = Sequential()\n",
    "model.add(LSTM(units=50, return_sequences=True, input_shape=(X_train.shape[1],1)))\n",
    "model.add(LSTM(units=50))\n",
    "model.add(Dense(1))\n",
    "\n",
    "model.compile(optimizer=\"adam\", loss=\"mean_squared_error\")\n",
    "model.fit(X_train, y_train, epochs=3, batch_size=32)\n"
   ]
  },
  {
   "cell_type": "code",
   "execution_count": null,
   "id": "8bb7c13d",
   "metadata": {},
   "outputs": [],
   "source": [
    "\n",
    "# Prepare test data\n",
    "X_test, y_test = [], df[\"sales\"][train_size:]\n",
    "for i in range(60, len(test_data)):\n",
    "    X_test.append(test_data[i-60:i,0])\n",
    "X_test = np.array(X_test)\n",
    "X_test = np.reshape(X_test, (X_test.shape[0], X_test.shape[1], 1))\n",
    "\n",
    "predictions = model.predict(X_test)\n",
    "predictions = scaler.inverse_transform(predictions)\n",
    "\n",
    "# Plot Results\n",
    "plt.figure(figsize=(12,6))\n",
    "plt.plot(df[\"date\"][train_size:], y_test, label=\"Actual Sales\")\n",
    "plt.plot(df[\"date\"][train_size+60:], predictions, label=\"LSTM Predictions\", color=\"orange\")\n",
    "plt.legend()\n",
    "plt.title(\"LSTM Forecast vs Actual Sales\")\n",
    "plt.show()\n"
   ]
  }
 ],
 "metadata": {},
 "nbformat": 4,
 "nbformat_minor": 5
}